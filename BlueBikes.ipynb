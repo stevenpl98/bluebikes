{
  "nbformat": 4,
  "nbformat_minor": 0,
  "metadata": {
    "colab": {
      "name": "BlueBikes.ipynb",
      "provenance": [],
      "collapsed_sections": [],
      "include_colab_link": true
    },
    "kernelspec": {
      "name": "python3",
      "display_name": "Python 3"
    }
  },
  "cells": [
    {
      "cell_type": "markdown",
      "metadata": {
        "id": "view-in-github",
        "colab_type": "text"
      },
      "source": [
        "<a href=\"https://colab.research.google.com/github/stevenpl98/bluebikes/blob/master/BlueBikes.ipynb\" target=\"_parent\"><img src=\"https://colab.research.google.com/assets/colab-badge.svg\" alt=\"Open In Colab\"/></a>"
      ]
    },
    {
      "cell_type": "markdown",
      "metadata": {
        "id": "f1Zm_jnG-0Xs",
        "colab_type": "text"
      },
      "source": [
        "**Setup**"
      ]
    },
    {
      "cell_type": "code",
      "metadata": {
        "id": "dFekVI5rNAAb",
        "colab_type": "code",
        "colab": {}
      },
      "source": [
        "from google.colab import drive\n",
        "drive.mount('/content/drive')\n"
      ],
      "execution_count": null,
      "outputs": []
    },
    {
      "cell_type": "code",
      "metadata": {
        "id": "lcBZAHGWiym4",
        "colab_type": "code",
        "colab": {}
      },
      "source": [
        "#For Colab -- DO NOT RUN LOCALLY\n",
        "import os\n",
        "#Install Java\n",
        "!apt-get install openjdk-8-jdk-headless -qq > /dev/null\n",
        "#Set JAVA_HOME path variable in Linux\n",
        "os.environ[\"JAVA_HOME\"] = \"/usr/lib/jvm/java-8-openjdk-amd64\"\n",
        "!update-alternatives --set java /usr/lib/jvm/java-8-openjdk-amd64/jre/bin/java\n",
        "!java -version\n",
        "\n",
        "\n",
        "#Install Spark\n",
        "#download Spark file\n",
        "!wget -q http://apache.osuosl.org/spark/spark-3.0.0/spark-3.0.0-bin-hadoop3.2.tgz \n",
        "#extract the file\n",
        "!tar xf spark-3.0.0-bin-hadoop3.2.tgz\n",
        "#Set SPARK-HOME path variable in Linux\n",
        "os.environ[\"SPARK_HOME\"] = \"/content/spark-3.0.0-bin-hadoop3.2\"\n",
        "\n",
        "\n",
        "#install findspark package\n",
        "!pip install -q findspark"
      ],
      "execution_count": null,
      "outputs": []
    },
    {
      "cell_type": "code",
      "metadata": {
        "id": "FgMTP_dm3mrq",
        "colab_type": "code",
        "colab": {}
      },
      "source": [
        "#from google.colab import drive\n",
        "#drive.mount('/content/drive')"
      ],
      "execution_count": null,
      "outputs": []
    },
    {
      "cell_type": "code",
      "metadata": {
        "id": "q9VOChYYiz0l",
        "colab_type": "code",
        "colab": {}
      },
      "source": [
        "import findspark\n",
        "findspark.init()"
      ],
      "execution_count": null,
      "outputs": []
    },
    {
      "cell_type": "code",
      "metadata": {
        "id": "rCCCARWMi0Fr",
        "colab_type": "code",
        "colab": {}
      },
      "source": [
        "# create entry points to spark\n",
        "try:\n",
        "    sc.stop()\n",
        "except:\n",
        "    pass\n",
        "from pyspark import SparkContext, SparkConf\n",
        "from pyspark.sql import SparkSession\n",
        "conf = SparkConf().setAppName(\"bluebikes\").setMaster(\"local[*]\")#local[2]\n",
        "sc=SparkContext(conf = conf)\n",
        "#spark = SparkSession(sparkContext=sc)"
      ],
      "execution_count": null,
      "outputs": []
    },
    {
      "cell_type": "markdown",
      "metadata": {
        "id": "Jah75sPB-8nP",
        "colab_type": "text"
      },
      "source": [
        "**Add Title Here**"
      ]
    },
    {
      "cell_type": "code",
      "metadata": {
        "id": "TsA7PnK0i0uo",
        "colab_type": "code",
        "colab": {}
      },
      "source": [
        "rdd = sc.textFile('./drive/My Drive/Big Data/data/Bikes Data/Years/2015.csv')\n",
        "#rdd = sc.textFile('./drive/My Drive/Big Data/data/Bikes Data/Years/hubway_Trips_2013.csv')\n",
        "rdd.take(3)"
      ],
      "execution_count": null,
      "outputs": []
    },
    {
      "cell_type": "code",
      "metadata": {
        "id": "IcK1jCopaEEa",
        "colab_type": "code",
        "colab": {}
      },
      "source": [
        "#2019-11-01 00:00:00.2770\n",
        "test = datetime.strptime('2019-11-01 00:00:00.2770','%Y-%m-%d %H:%M:%S.%f')\n",
        "print(test)"
      ],
      "execution_count": null,
      "outputs": []
    },
    {
      "cell_type": "code",
      "metadata": {
        "id": "vbhbHXKPqU-O",
        "colab_type": "code",
        "colab": {}
      },
      "source": [
        "mappedrdd = rdd.map(lambda x:x.split(','))\n",
        "\n",
        "test1 = mappedrdd.map(lambda x: x[1])\n",
        "\n",
        "temp = test1.first()\n",
        "test2 = test1.filter(lambda x: x != temp)\n",
        "\n",
        "test3 = test2.map(lambda x: x[5:7]).distinct()\n",
        "\n",
        "out = test3.collect()\n",
        "\n",
        "print(out)"
      ],
      "execution_count": null,
      "outputs": []
    },
    {
      "cell_type": "code",
      "metadata": {
        "id": "4sp_egnlYwPs",
        "colab_type": "code",
        "colab": {}
      },
      "source": [
        "#12/31/2014 23:58\n",
        "import time\n",
        "start = time.time()\n",
        "from datetime import datetime\n",
        "\n",
        "def try_parsing_date(text):\n",
        "    for fmt in ('%Y-%m-%d %H:%M:%S', '%Y-%m-%d %H:%M:%S.%f','%m/%d/%Y %H:%M'):\n",
        "        try:\n",
        "            return datetime.strptime(text, fmt)\n",
        "        except ValueError:\n",
        "            pass\n",
        "    raise ValueError('String \"'+ text +'\" could not convert to Datetime')"
      ],
      "execution_count": null,
      "outputs": []
    },
    {
      "cell_type": "code",
      "metadata": {
        "id": "DOZZTcJ_4Qtd",
        "colab_type": "code",
        "colab": {}
      },
      "source": [
        "#Extracting Years, then going to begin separating by month\n",
        "\n",
        "\n",
        "rdd = sc.textFile('./drive/My Drive/Big Data/data/Bikes Data/cleaned_data.csv')\n",
        "mappedrdd = rdd.map(lambda x:x.split(','))\n",
        "\n",
        "#cleanedrdd = mappedrdd.filter(lambda x: (x[0] != 'Duration' or x[0] != 'tripduration') )\n",
        "mappedrdd.take(3)\n",
        "#dates = mappedrdd.map(lambda x: (x[1], x[6]))#.filter(lambda x: (x != 'Start date')).filter(lambda x: (x != 'startdate'))\n",
        "#header = temp.first()\n",
        "\n",
        "#dates = temp.filter(lambda x: x[0] != '')#.filter(lambda x: '2014' in x)\n",
        "#dates = temp.filter(lambda x: (x != 'starttime'))\n",
        "\n",
        "#dates.take(3)\n",
        "\n",
        "\n"
      ],
      "execution_count": null,
      "outputs": []
    },
    {
      "cell_type": "code",
      "metadata": {
        "id": "GHGEbKZZXlF_",
        "colab_type": "code",
        "colab": {}
      },
      "source": [
        "years = dates.map(lambda x: try_parsing_date(x).year).distinct()\n",
        "#years = dates.map(lambda x: x[6:10])\n",
        "#years.take(3)\n",
        "out = years.collect()\n",
        "\n",
        "print(out)\n",
        "\n",
        "#print(out)\n",
        "#print(str(time.time() - start) + ' Seconds')"
      ],
      "execution_count": null,
      "outputs": []
    },
    {
      "cell_type": "code",
      "metadata": {
        "id": "gZONxMErF8uw",
        "colab_type": "code",
        "colab": {}
      },
      "source": [
        "def RemoveHeader(rdd):\n",
        "  header = rdd.first()\n",
        "  data = rdd.filter(lambda x: x != header) \n",
        "  return (data)"
      ],
      "execution_count": null,
      "outputs": []
    },
    {
      "cell_type": "markdown",
      "metadata": {
        "id": "BJbZNeNPGoMG",
        "colab_type": "text"
      },
      "source": [
        "**Cleaning RDDS**"
      ]
    },
    {
      "cell_type": "code",
      "metadata": {
        "id": "lzIsyMpvE15m",
        "colab_type": "code",
        "colab": {}
      },
      "source": [
        "# Clean rdds\n",
        "\n",
        "rdd2011 = rdd = sc.textFile('/content/drive/My Drive/Big Data/data/Bikes Data/Years/hubway_Trips_2011.csv')\n",
        "rdd2012 = rdd = sc.textFile('/content/drive/My Drive/Big Data/data/Bikes Data/Years/hubway_Trips_2012.csv')\n",
        "rdd2013 = rdd = sc.textFile('/content/drive/My Drive/Big Data/data/Bikes Data/Years/hubway_Trips_2013.csv')\n",
        "rdd2014 = rdd = sc.textFile('/content/drive/My Drive/Big Data/data/Bikes Data/Years/2014.csv')\n",
        "rdd2015 = rdd = sc.textFile('/content/drive/My Drive/Big Data/data/Bikes Data/Years/2015.csv')\n",
        "rdd2016 = rdd = sc.textFile('/content/drive/My Drive/Big Data/data/Bikes Data/Years/2016.csv')\n",
        "rdd2017 = rdd = sc.textFile('/content/drive/My Drive/Big Data/data/Bikes Data/Years/2017.csv')\n",
        "rdd2018 = rdd = sc.textFile('/content/drive/My Drive/Big Data/data/Bikes Data/Years/2018.csv')\n",
        "rdd2019 = rdd = sc.textFile('/content/drive/My Drive/Big Data/data/Bikes Data/Years/2019.csv')\n",
        "rdd2020 = rdd = sc.textFile('/content/drive/My Drive/Big Data/data/Bikes Data/Years/2020.csv')\n",
        "\n",
        "cleaned_rdd = sc.union([RemoveHeader(rdd2011),RemoveHeader(rdd2012),RemoveHeader(rdd2013),RemoveHeader(rdd2014),RemoveHeader(rdd2015),\n",
        "                       RemoveHeader(rdd2016),RemoveHeader(rdd2017),RemoveHeader(rdd2018),RemoveHeader(rdd2019),RemoveHeader(rdd2020)])\n",
        "cleaned_rdd.saveAsTextFile('/content/drive/My Drive/Big Data/data/Bikes Data/cleaned_data.csv')\n"
      ],
      "execution_count": null,
      "outputs": []
    },
    {
      "cell_type": "code",
      "metadata": {
        "id": "zQgfj0mBJSN9",
        "colab_type": "code",
        "colab": {}
      },
      "source": [
        "import pandas as pd\n",
        "import time\n",
        "start = time.time()\n",
        "#out = pd.DataFrame(cleaned_rdd.collect())\n",
        "#out = cleaned_rdd.collect()\n",
        "#print(str(time.time() - start))\n",
        "#out.to_csv('/content/drive/My Drive/Big Data/data/Bikes Data/cleaned_data.csv')"
      ],
      "execution_count": null,
      "outputs": []
    },
    {
      "cell_type": "markdown",
      "metadata": {
        "id": "fHhJvB83HaSI",
        "colab_type": "text"
      },
      "source": [
        "**Month vs Month Difference Throughout Years**"
      ]
    },
    {
      "cell_type": "code",
      "metadata": {
        "id": "Fys7DILMHnC6",
        "colab_type": "code",
        "colab": {}
      },
      "source": [
        "# clean year rdds\n",
        "rdd11 =  RemoveHeader(sc.textFile('/content/drive/My Drive/Big Data/data/Bikes Data/Years/hubway_Trips_2011.csv')).map(lambda x:x.split(','))\n",
        "rdd12 =  RemoveHeader(sc.textFile('/content/drive/My Drive/Big Data/data/Bikes Data/Years/hubway_Trips_2012.csv')).map(lambda x:x.split(','))\n",
        "rdd13 =  RemoveHeader(sc.textFile('/content/drive/My Drive/Big Data/data/Bikes Data/Years/hubway_Trips_2013.csv')).map(lambda x:x.split(','))\n",
        "rdd14 =  RemoveHeader(sc.textFile('/content/drive/My Drive/Big Data/data/Bikes Data/Years/2014.csv')).map(lambda x:x.split(','))\n",
        "rdd15 =  RemoveHeader(sc.textFile('/content/drive/My Drive/Big Data/data/Bikes Data/Years/2015.csv')).map(lambda x:x.split(','))\n",
        "rdd16 =  RemoveHeader(sc.textFile('/content/drive/My Drive/Big Data/data/Bikes Data/Years/2016.csv')).map(lambda x:x.split(','))\n",
        "rdd17 =  RemoveHeader(sc.textFile('/content/drive/My Drive/Big Data/data/Bikes Data/Years/2017.csv')).map(lambda x:x.split(','))\n",
        "rdd18 =  RemoveHeader(sc.textFile('/content/drive/My Drive/Big Data/data/Bikes Data/Years/2018.csv')).map(lambda x:x.split(','))\n",
        "rdd19 =  RemoveHeader(sc.textFile('/content/drive/My Drive/Big Data/data/Bikes Data/Years/2019.csv')).map(lambda x:x.split(','))\n",
        "rdd20 =  RemoveHeader(sc.textFile('/content/drive/My Drive/Big Data/data/Bikes Data/Years/2020.csv')).map(lambda x:x.split(','))"
      ],
      "execution_count": null,
      "outputs": []
    },
    {
      "cell_type": "code",
      "metadata": {
        "id": "Oi4OVQ1GeT0s",
        "colab_type": "code",
        "colab": {}
      },
      "source": [
        "# Month Collection formatting\n",
        "trips11 = rdd11.map(lambda x: x[1][0:2])\n",
        "trips12 = rdd12.map(lambda x: x[1][0:2])\n",
        "trips13 = rdd13.map(lambda x: x[1][0:2])\n",
        "trips14 = rdd14.map(lambda x: x[1][0:2])\n",
        "trips15 = rdd15.map(lambda x: x[1][5:7])\n",
        "trips16 = rdd16.map(lambda x: x[1][5:7])\n",
        "trips17 = rdd17.map(lambda x: x[1][5:7])\n",
        "trips18 = rdd18.map(lambda x: x[1][5:7])\n",
        "trips19 = rdd19.map(lambda x: x[1][5:7])\n",
        "trips20 = rdd20.map(lambda x: x[1][5:7])"
      ],
      "execution_count": null,
      "outputs": []
    },
    {
      "cell_type": "code",
      "metadata": {
        "id": "zQe5W0F7rYP6",
        "colab_type": "code",
        "colab": {}
      },
      "source": [
        "# Month collections\n",
        "t11 = trips11.collect()\n",
        "t12 = trips12.collect()\n",
        "t13 = trips13.collect()\n",
        "t14 = trips14.collect()\n",
        "t15 = trips15.collect()\n",
        "t16 = trips16.collect()\n",
        "t17 = trips17.collect()\n",
        "t18 = trips18.collect()\n",
        "t19 = trips19.collect()\n",
        "t20 = trips20.collect()"
      ],
      "execution_count": null,
      "outputs": []
    },
    {
      "cell_type": "code",
      "metadata": {
        "id": "xLJLpQ-AvEqk",
        "colab_type": "code",
        "colab": {}
      },
      "source": [
        "# Gets trip numbers per month for all months in a year\n",
        "def tripsPerMonth(collection):\n",
        "  trips = pd.DataFrame(collection, columns=[\"x\"]).groupby('x').size().to_dict()\n",
        "  return trips"
      ],
      "execution_count": null,
      "outputs": []
    },
    {
      "cell_type": "code",
      "metadata": {
        "id": "huWqA139-Lc-",
        "colab_type": "code",
        "colab": {}
      },
      "source": [
        "# Format months as example ahead: '1/' or '01' to January\n",
        "def formatMonth(d):\n",
        "  changes = {\n",
        "      '1/':'January',\n",
        "      '01':'January',\n",
        "      '2/':'February',\n",
        "      '02':'February',\n",
        "      '3/':'March',\n",
        "      '03':'March',\n",
        "      '4/':'April',\n",
        "      '04':'April',\n",
        "      '5/':'May',\n",
        "      '05':'May',\n",
        "      '6/':'June',\n",
        "      '06':'June',\n",
        "      '7/':'July',\n",
        "      '07':'July',\n",
        "      '8/':'August',\n",
        "      '08':'August',\n",
        "      '9/':'September',\n",
        "      '09':'September',\n",
        "      '10':'October',\n",
        "      '11':'November',\n",
        "      '12':'December'\n",
        "  }\n",
        "  d2 = dict((changes[key], value) for (key, value) in d.items())\n",
        "\n",
        "  return d2"
      ],
      "execution_count": null,
      "outputs": []
    },
    {
      "cell_type": "code",
      "metadata": {
        "id": "bkS-98h2x_dO",
        "colab_type": "code",
        "colab": {}
      },
      "source": [
        "trips2011 = formatMonth(tripsPerMonth(t11))\n",
        "trips2012 = formatMonth(tripsPerMonth(t12))\n",
        "trips2013 = formatMonth(tripsPerMonth(t13))\n",
        "trips2014 = formatMonth(tripsPerMonth(t14))\n",
        "trips2015 = formatMonth(tripsPerMonth(t15))\n",
        "trips2016 = formatMonth(tripsPerMonth(t16))\n",
        "trips2017 = formatMonth(tripsPerMonth(t17))\n",
        "trips2018 = formatMonth(tripsPerMonth(t18))\n",
        "trips2019 = formatMonth(tripsPerMonth(t19))\n",
        "trips2020 = formatMonth(tripsPerMonth(t20))\n",
        "print(trips2011)\n",
        "print(trips2012)\n",
        "print(trips2013)\n",
        "print(trips2014)\n",
        "print(trips2015)\n",
        "print(trips2016)\n",
        "print(trips2017)\n",
        "print(trips2018)\n",
        "print(trips2019)\n",
        "print(trips2020)"
      ],
      "execution_count": null,
      "outputs": []
    }
  ]
}