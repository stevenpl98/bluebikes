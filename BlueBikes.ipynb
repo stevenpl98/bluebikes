{
  "nbformat": 4,
  "nbformat_minor": 0,
  "metadata": {
    "colab": {
      "name": "BlueBikes.ipynb",
      "provenance": [],
      "collapsed_sections": [],
      "include_colab_link": true
    },
    "kernelspec": {
      "name": "python3",
      "display_name": "Python 3"
    }
  },
  "cells": [
    {
      "cell_type": "markdown",
      "metadata": {
        "id": "view-in-github",
        "colab_type": "text"
      },
      "source": [
        "<a href=\"https://colab.research.google.com/github/stevenpl98/bluebikes/blob/master/BlueBikes.ipynb\" target=\"_parent\"><img src=\"https://colab.research.google.com/assets/colab-badge.svg\" alt=\"Open In Colab\"/></a>"
      ]
    },
    {
      "cell_type": "markdown",
      "metadata": {
        "id": "f1Zm_jnG-0Xs",
        "colab_type": "text"
      },
      "source": [
        "**Setup**"
      ]
    },
    {
      "cell_type": "code",
      "metadata": {
        "id": "dFekVI5rNAAb",
        "colab_type": "code",
        "colab": {
          "base_uri": "https://localhost:8080/",
          "height": 122
        },
        "outputId": "e513474f-1b00-4ac5-927d-255de17ce629"
      },
      "source": [
        "from google.colab import drive\n",
        "drive.mount('/content/drive')\n"
      ],
      "execution_count": null,
      "outputs": [
        {
          "output_type": "stream",
          "text": [
            "Go to this URL in a browser: https://accounts.google.com/o/oauth2/auth?client_id=947318989803-6bn6qk8qdgf4n4g3pfee6491hc0brc4i.apps.googleusercontent.com&redirect_uri=urn%3aietf%3awg%3aoauth%3a2.0%3aoob&response_type=code&scope=email%20https%3a%2f%2fwww.googleapis.com%2fauth%2fdocs.test%20https%3a%2f%2fwww.googleapis.com%2fauth%2fdrive%20https%3a%2f%2fwww.googleapis.com%2fauth%2fdrive.photos.readonly%20https%3a%2f%2fwww.googleapis.com%2fauth%2fpeopleapi.readonly\n",
            "\n",
            "Enter your authorization code:\n",
            "··········\n",
            "Mounted at /content/drive\n"
          ],
          "name": "stdout"
        }
      ]
    },
    {
      "cell_type": "code",
      "metadata": {
        "id": "lcBZAHGWiym4",
        "colab_type": "code",
        "colab": {
          "base_uri": "https://localhost:8080/",
          "height": 85
        },
        "outputId": "62f0a362-3935-4cf5-f8d9-ad29cc964f03"
      },
      "source": [
        "#For Colab -- DO NOT RUN LOCALLY\n",
        "import os\n",
        "#Install Java\n",
        "!apt-get install openjdk-8-jdk-headless -qq > /dev/null\n",
        "#Set JAVA_HOME path variable in Linux\n",
        "os.environ[\"JAVA_HOME\"] = \"/usr/lib/jvm/java-8-openjdk-amd64\"\n",
        "!update-alternatives --set java /usr/lib/jvm/java-8-openjdk-amd64/jre/bin/java\n",
        "!java -version\n",
        "\n",
        "\n",
        "#Install Spark\n",
        "#download Spark file\n",
        "!wget -q http://apache.osuosl.org/spark/spark-3.0.0/spark-3.0.0-bin-hadoop3.2.tgz \n",
        "#extract the file\n",
        "!tar xf spark-3.0.0-bin-hadoop3.2.tgz\n",
        "#Set SPARK-HOME path variable in Linux\n",
        "os.environ[\"SPARK_HOME\"] = \"/content/spark-3.0.0-bin-hadoop3.2\"\n",
        "\n",
        "\n",
        "#install findspark package\n",
        "!pip install -q findspark"
      ],
      "execution_count": null,
      "outputs": [
        {
          "output_type": "stream",
          "text": [
            "update-alternatives: using /usr/lib/jvm/java-8-openjdk-amd64/jre/bin/java to provide /usr/bin/java (java) in manual mode\n",
            "openjdk version \"1.8.0_252\"\n",
            "OpenJDK Runtime Environment (build 1.8.0_252-8u252-b09-1~18.04-b09)\n",
            "OpenJDK 64-Bit Server VM (build 25.252-b09, mixed mode)\n"
          ],
          "name": "stdout"
        }
      ]
    },
    {
      "cell_type": "code",
      "metadata": {
        "id": "q9VOChYYiz0l",
        "colab_type": "code",
        "colab": {}
      },
      "source": [
        "import findspark\n",
        "findspark.init()"
      ],
      "execution_count": null,
      "outputs": []
    },
    {
      "cell_type": "code",
      "metadata": {
        "id": "rCCCARWMi0Fr",
        "colab_type": "code",
        "colab": {}
      },
      "source": [
        "# create entry points to spark\n",
        "try:\n",
        "    sc.stop()\n",
        "except:\n",
        "    pass\n",
        "from pyspark import SparkContext, SparkConf\n",
        "from pyspark.sql import SparkSession\n",
        "conf = SparkConf().setAppName(\"bluebikes\").setMaster(\"local[*]\")#local[2]\n",
        "sc=SparkContext(conf = conf)\n",
        "#spark = SparkSession(sparkContext=sc)"
      ],
      "execution_count": null,
      "outputs": []
    },
    {
      "cell_type": "markdown",
      "metadata": {
        "id": "Jah75sPB-8nP",
        "colab_type": "text"
      },
      "source": [
        "**Add Title Here**"
      ]
    },
    {
      "cell_type": "code",
      "metadata": {
        "id": "TsA7PnK0i0uo",
        "colab_type": "code",
        "colab": {
          "base_uri": "https://localhost:8080/",
          "height": 88
        },
        "outputId": "cd43b558-e0d8-4979-ccd3-49aaf9f9da1c"
      },
      "source": [
        "test = sc.textFile('./drive/My Drive/Big Data/data/Bikes Data/Years/2014.csv')\n",
        "#test = sc.textFile('./drive/My Drive/Big Data/data/Bikes Data/Years/hubway_Trips_2011.csv')\n",
        "test.take(3)"
      ],
      "execution_count": null,
      "outputs": [
        {
          "output_type": "execute_result",
          "data": {
            "text/plain": [
              "['tripduration,starttime,stoptime,start station id,start station name,start station latitude,start station longitude,end station id,end station name,end station latitude,end station longitude,bikeid,usertype,birth year,gender,postal code',\n",
              " '366,2020-03-01 00:01:09.0060,2020-03-01 00:07:15.2360,9,Commonwealth Ave at Agganis Way,42.35169201885972,-71.11903488636017,446,700 Commonwealth Ave.,42.349609453330594,-71.10391523698127,5566,Customer,1969.0,0.0,',\n",
              " '367,2020-03-01 00:01:10.9500,2020-03-01 00:07:18.1970,9,Commonwealth Ave at Agganis Way,42.35169201885972,-71.11903488636017,446,700 Commonwealth Ave.,42.349609453330594,-71.10391523698127,4113,Customer,1969.0,0.0,']"
            ]
          },
          "metadata": {
            "tags": []
          },
          "execution_count": 9
        }
      ]
    },
    {
      "cell_type": "code",
      "metadata": {
        "id": "IcK1jCopaEEa",
        "colab_type": "code",
        "colab": {
          "base_uri": "https://localhost:8080/",
          "height": 198
        },
        "outputId": "63ce385c-0e11-4917-c06a-8608846379c0"
      },
      "source": [
        "#2019-11-01 00:00:00.2770\n",
        "test = datetime.strptime('2019-11-01 00:00:00.2770','%Y-%m-%d %H:%M:%S.%f')\n",
        "print(test)"
      ],
      "execution_count": null,
      "outputs": [
        {
          "output_type": "error",
          "ename": "NameError",
          "evalue": "ignored",
          "traceback": [
            "\u001b[0;31m---------------------------------------------------------------------------\u001b[0m",
            "\u001b[0;31mNameError\u001b[0m                                 Traceback (most recent call last)",
            "\u001b[0;32m<ipython-input-10-3dd7d7545e95>\u001b[0m in \u001b[0;36m<module>\u001b[0;34m()\u001b[0m\n\u001b[1;32m      1\u001b[0m \u001b[0;31m#2019-11-01 00:00:00.2770\u001b[0m\u001b[0;34m\u001b[0m\u001b[0;34m\u001b[0m\u001b[0;34m\u001b[0m\u001b[0m\n\u001b[0;32m----> 2\u001b[0;31m \u001b[0mtest\u001b[0m \u001b[0;34m=\u001b[0m \u001b[0mdatetime\u001b[0m\u001b[0;34m.\u001b[0m\u001b[0mstrptime\u001b[0m\u001b[0;34m(\u001b[0m\u001b[0;34m'2019-11-01 00:00:00.2770'\u001b[0m\u001b[0;34m,\u001b[0m\u001b[0;34m'%Y-%m-%d %H:%M:%S.%f'\u001b[0m\u001b[0;34m)\u001b[0m\u001b[0;34m\u001b[0m\u001b[0;34m\u001b[0m\u001b[0m\n\u001b[0m\u001b[1;32m      3\u001b[0m \u001b[0mprint\u001b[0m\u001b[0;34m(\u001b[0m\u001b[0mtest\u001b[0m\u001b[0;34m)\u001b[0m\u001b[0;34m\u001b[0m\u001b[0;34m\u001b[0m\u001b[0m\n",
            "\u001b[0;31mNameError\u001b[0m: name 'datetime' is not defined"
          ]
        }
      ]
    },
    {
      "cell_type": "code",
      "metadata": {
        "id": "vbhbHXKPqU-O",
        "colab_type": "code",
        "colab": {
          "base_uri": "https://localhost:8080/",
          "height": 232
        },
        "outputId": "3fd62fe8-8aae-4ead-ae78-8ae46d1d8578"
      },
      "source": [
        "mappedrdd = rdd.map(lambda x:x.split(','))\n",
        "\n",
        "test1 = mappedrdd.map(lambda x: x[1])\n",
        "\n",
        "temp = test1.first()\n",
        "test2 = test1.filter(lambda x: x != temp)\n",
        "\n",
        "test3 = test2.map(lambda x: x[5:7]).distinct()\n",
        "\n",
        "out = test3.collect()\n",
        "\n",
        "print(out)"
      ],
      "execution_count": null,
      "outputs": [
        {
          "output_type": "error",
          "ename": "NameError",
          "evalue": "ignored",
          "traceback": [
            "\u001b[0;31m---------------------------------------------------------------------------\u001b[0m",
            "\u001b[0;31mNameError\u001b[0m                                 Traceback (most recent call last)",
            "\u001b[0;32m<ipython-input-11-2c6a335eec4e>\u001b[0m in \u001b[0;36m<module>\u001b[0;34m()\u001b[0m\n\u001b[0;32m----> 1\u001b[0;31m \u001b[0mmappedrdd\u001b[0m \u001b[0;34m=\u001b[0m \u001b[0mrdd\u001b[0m\u001b[0;34m.\u001b[0m\u001b[0mmap\u001b[0m\u001b[0;34m(\u001b[0m\u001b[0;32mlambda\u001b[0m \u001b[0mx\u001b[0m\u001b[0;34m:\u001b[0m\u001b[0mx\u001b[0m\u001b[0;34m.\u001b[0m\u001b[0msplit\u001b[0m\u001b[0;34m(\u001b[0m\u001b[0;34m','\u001b[0m\u001b[0;34m)\u001b[0m\u001b[0;34m)\u001b[0m\u001b[0;34m\u001b[0m\u001b[0;34m\u001b[0m\u001b[0m\n\u001b[0m\u001b[1;32m      2\u001b[0m \u001b[0;34m\u001b[0m\u001b[0m\n\u001b[1;32m      3\u001b[0m \u001b[0mtest1\u001b[0m \u001b[0;34m=\u001b[0m \u001b[0mmappedrdd\u001b[0m\u001b[0;34m.\u001b[0m\u001b[0mmap\u001b[0m\u001b[0;34m(\u001b[0m\u001b[0;32mlambda\u001b[0m \u001b[0mx\u001b[0m\u001b[0;34m:\u001b[0m \u001b[0mx\u001b[0m\u001b[0;34m[\u001b[0m\u001b[0;36m1\u001b[0m\u001b[0;34m]\u001b[0m\u001b[0;34m)\u001b[0m\u001b[0;34m\u001b[0m\u001b[0;34m\u001b[0m\u001b[0m\n\u001b[1;32m      4\u001b[0m \u001b[0;34m\u001b[0m\u001b[0m\n\u001b[1;32m      5\u001b[0m \u001b[0mtemp\u001b[0m \u001b[0;34m=\u001b[0m \u001b[0mtest1\u001b[0m\u001b[0;34m.\u001b[0m\u001b[0mfirst\u001b[0m\u001b[0;34m(\u001b[0m\u001b[0;34m)\u001b[0m\u001b[0;34m\u001b[0m\u001b[0;34m\u001b[0m\u001b[0m\n",
            "\u001b[0;31mNameError\u001b[0m: name 'rdd' is not defined"
          ]
        }
      ]
    },
    {
      "cell_type": "code",
      "metadata": {
        "id": "4sp_egnlYwPs",
        "colab_type": "code",
        "colab": {}
      },
      "source": [
        "#12/31/2014 23:58\n",
        "import time\n",
        "start = time.time()\n",
        "from datetime import datetime\n",
        "\n",
        "def try_parsing_date(text):\n",
        "    for fmt in ('%Y-%m-%d %H:%M:%S', '%Y-%m-%d %H:%M:%S.%f','%m/%d/%Y %H:%M'):\n",
        "        try:\n",
        "            return datetime.strptime(text, fmt)\n",
        "        except ValueError:\n",
        "            pass\n",
        "    raise ValueError('String \"'+ text +'\" could not convert to Datetime')"
      ],
      "execution_count": null,
      "outputs": []
    },
    {
      "cell_type": "code",
      "metadata": {
        "id": "DOZZTcJ_4Qtd",
        "colab_type": "code",
        "colab": {
          "base_uri": "https://localhost:8080/",
          "height": 578
        },
        "outputId": "6a07bec9-a3ed-4bb6-d310-2b60cf6dff23"
      },
      "source": [
        "#Extracting Years, then going to begin separating by month\n",
        "\n",
        "\n",
        "rdd = sc.textFile('./drive/My Drive/Big Data/data/Bikes Data/cleaned_data.csv')\n",
        "mappedrdd = rdd.map(lambda x:x.split(','))\n",
        "\n",
        "#cleanedrdd = mappedrdd.filter(lambda x: (x[0] != 'Duration' or x[0] != 'tripduration') )\n",
        "mappedrdd.take(3)\n",
        "#dates = mappedrdd.map(lambda x: (x[1], x[6]))#.filter(lambda x: (x != 'Start date')).filter(lambda x: (x != 'startdate'))\n",
        "#header = temp.first()\n",
        "\n",
        "#dates = temp.filter(lambda x: x[0] != '')#.filter(lambda x: '2014' in x)\n",
        "#dates = temp.filter(lambda x: (x != 'starttime'))\n",
        "\n",
        "#dates.take(3)\n",
        "\n",
        "\n"
      ],
      "execution_count": null,
      "outputs": [
        {
          "output_type": "execute_result",
          "data": {
            "text/plain": [
              "[['203810',\n",
              "  '8/23/2012 7:42',\n",
              "  '8/23/2012 7:45',\n",
              "  'C32001',\n",
              "  'Roxbury Crossing Station',\n",
              "  'B32002',\n",
              "  'Ruggles Station / Columbus Ave.',\n",
              "  'B00297',\n",
              "  'Member',\n",
              "  '2120',\n",
              "  'Male'],\n",
              " ['229342',\n",
              "  '8/23/2012 7:41',\n",
              "  '8/23/2012 7:45',\n",
              "  'A32010',\n",
              "  'South Station - 700 Atlantic Ave.',\n",
              "  'D32008',\n",
              "  'Rowes Wharf - Atlantic Ave',\n",
              "  'B00167',\n",
              "  'Member',\n",
              "  '1760',\n",
              "  'Male'],\n",
              " ['550914',\n",
              "  '8/23/2012 7:41',\n",
              "  '8/23/2012 7:50',\n",
              "  'C32008',\n",
              "  'Boylston at Fairfield',\n",
              "  'C32006',\n",
              "  'Washington St. at Rutland St.',\n",
              "  'B00001',\n",
              "  'Member',\n",
              "  '2199',\n",
              "  'Male']]"
            ]
          },
          "metadata": {
            "tags": []
          },
          "execution_count": 13
        }
      ]
    },
    {
      "cell_type": "code",
      "metadata": {
        "id": "NIr43ZtEUVwm",
        "colab_type": "code",
        "colab": {}
      },
      "source": [
        "def set_age_group(current,val):\n",
        "    try:\n",
        "      year = int(current) - int(val)\n",
        "      if year < 18:\n",
        "        return('under 18')\n",
        "      elif year < 25:\n",
        "        return('18 - 24')\n",
        "      elif year < 40:\n",
        "        return('25 - 39')\n",
        "      elif year < 60:\n",
        "        return('40 - 59')\n",
        "      else:\n",
        "        return('60+')\n",
        "    except:\n",
        "      return('error')"
      ],
      "execution_count": null,
      "outputs": []
    },
    {
      "cell_type": "markdown",
      "metadata": {
        "id": "jysx7yVGkHAs",
        "colab_type": "text"
      },
      "source": [
        "I need to go back and separate out the 2020, because birth year is on a different column for whatever reason"
      ]
    },
    {
      "cell_type": "code",
      "metadata": {
        "id": "F122wldIPMsT",
        "colab_type": "code",
        "colab": {}
      },
      "source": [
        "years = ['2011','2012','2013','2014','2020']\n",
        "\n",
        "dates = mappedrdd.map(lambda x: (x[1], x[-2], x[-3]) )\n",
        "\n",
        "cleaned = dates.filter(lambda x: not any(val in x[0] for val in years)).filter(lambda x: x[1] != '\\\\N' and x[1] != '')"
      ],
      "execution_count": null,
      "outputs": []
    },
    {
      "cell_type": "code",
      "metadata": {
        "id": "WHp4vOG1Wu_t",
        "colab_type": "code",
        "colab": {
          "base_uri": "https://localhost:8080/",
          "height": 68
        },
        "outputId": "5e93471b-6ab1-445b-e765-4ad4f1e6d0b4"
      },
      "source": [
        "age_groups = cleaned.map(lambda x: (try_parsing_date(x[0]),x[1][0:4]))\n",
        "age_groups.take(3)"
      ],
      "execution_count": null,
      "outputs": [
        {
          "output_type": "execute_result",
          "data": {
            "text/plain": [
              "[(datetime.datetime(2015, 12, 1, 0, 1, 52), '1995'),\n",
              " (datetime.datetime(2015, 12, 1, 0, 5, 30), '1983'),\n",
              " (datetime.datetime(2015, 12, 1, 0, 7, 46), '1995')]"
            ]
          },
          "metadata": {
            "tags": []
          },
          "execution_count": 16
        }
      ]
    },
    {
      "cell_type": "code",
      "metadata": {
        "id": "ChSx1RxFaPxj",
        "colab_type": "code",
        "colab": {}
      },
      "source": [
        "prep_reduce = age_groups.map(lambda x: (( x[0].year, x[0].month, set_age_group(x[0].year ,x[1])), 1)).filter(lambda x: x[1] != 'error')\n",
        "vals = prep_reduce.reduceByKey(lambda x, y: x + y)"
      ],
      "execution_count": null,
      "outputs": []
    },
    {
      "cell_type": "code",
      "metadata": {
        "id": "8oZO7_rLXAOw",
        "colab_type": "code",
        "colab": {}
      },
      "source": [
        "def add_zero_value(rider_list):\n",
        "    if len(rider_list) != 5:\n",
        "      rider_list.append(0)\n",
        "    return(rider_list) "
      ],
      "execution_count": null,
      "outputs": []
    },
    {
      "cell_type": "code",
      "metadata": {
        "id": "Fis_zo6vh6CP",
        "colab_type": "code",
        "colab": {}
      },
      "source": [
        "#combine = vals.sortBy(lambda x: x[0]).collect()\n",
        "\n",
        "combine = vals.map(lambda x: ((x[0][0], x[0][1]), [(x[0][2],x[1])]))\n",
        "\n",
        "prep = combine.reduceByKey(lambda x, y: x + y).map(lambda x: (x[0], [item[1] for item in sorted(x[1])]))\n",
        "\n",
        "out = prep.map(lambda x: (x[0], add_zero_value(x[1]))).sortBy(lambda x: x[0]).collect()\n",
        "\n",
        "#out.take(3)\n",
        "\n",
        "#out = combine.reduceByKey(lambda x, y: x + y).map(lambda k, v: (k, sorted(v, key=lambda x: x[1], reverse=True))).collect()\n",
        "\n",
        "#for item in out:\n",
        "#  print(item)\n"
      ],
      "execution_count": null,
      "outputs": []
    },
    {
      "cell_type": "code",
      "metadata": {
        "id": "4a4j9C39YzVe",
        "colab_type": "code",
        "colab": {
          "base_uri": "https://localhost:8080/",
          "height": 119
        },
        "outputId": "75b1c40f-2355-4122-d6ab-c70afb49eed0"
      },
      "source": [
        "#test field\n",
        "import numpy as np\n",
        "percent = np.array([sum(item[1]) for item in out])\n",
        "print(percent)"
      ],
      "execution_count": null,
      "outputs": [
        {
          "output_type": "stream",
          "text": [
            "[  7586   3858  10614  45019 106817 110297 127968 118056 119120 107743\n",
            "  78167  43892  11495  13776  35651  67602 100721 129754 128396 136439\n",
            " 134183 117949  88636  44946  18437  16211  29348  77322 105602 130856\n",
            " 135489 156249 142078 141444  96839  52952  39393  59320  58429  98095\n",
            " 178674 205146 242652 235813 235954 199900 121283  81884 139572 160768\n",
            " 204536 333044 445718 547518 316585 674162 725654 610378 381114 184198]\n"
          ],
          "name": "stdout"
        }
      ]
    },
    {
      "cell_type": "code",
      "metadata": {
        "id": "UF3w6Rrz9MJ6",
        "colab_type": "code",
        "colab": {
          "base_uri": "https://localhost:8080/",
          "height": 707
        },
        "outputId": "e3a7d142-2ef4-4a48-eb74-c90570dff7f0"
      },
      "source": [
        "import matplotlib.pyplot as plt\n",
        "import numpy as np\n",
        "\n",
        "fig, ax = plt.subplots(num=None, figsize=(20, 10), dpi=80)\n",
        "\n",
        "labels = [str(item[0][1]) + ' ' + str(item[0][0]) for item in out]\n",
        "\n",
        "one = np.array([item[1][0] for item in out])\n",
        "two = np.array([item[1][1] for item in out])\n",
        "three = np.array([item[1][2] for item in out])\n",
        "four = np.array([item[1][3] for item in out])\n",
        "five = np.array([item[1][4] for item in out])\n",
        "\n",
        "width = .6\n",
        "\n",
        "ax.bar(labels, one, width,  label='18-24')\n",
        "ax.bar(labels, two, width,  bottom=one,label='25 - 39')\n",
        "ax.bar(labels, three, width,  bottom=two+one,label='40-59')\n",
        "ax.bar(labels, four, width,  bottom=one+two+three,label='60+')\n",
        "ax.bar(labels, five, width,  bottom=one + two + three + four,label='under 18')\n",
        "\n",
        "\n",
        "ax.set_ylabel('Number of Renters')\n",
        "ax.set_title('Ridership by Age Group')\n",
        "ax.legend()\n",
        "plt.xticks(rotation='vertical')\n",
        "\n",
        "plt.show()"
      ],
      "execution_count": null,
      "outputs": [
        {
          "output_type": "display_data",
          "data": {
            "image/png": "[encoded data removed]",
            "text/plain": [
              "<Figure size 1600x800 with 1 Axes>"
            ]
          },
          "metadata": {
            "tags": [],
            "needs_background": "light"
          }
        }
      ]
    },
    {
      "cell_type": "code",
      "metadata": {
        "id": "WwnQdGSSg5Dw",
        "colab_type": "code",
        "colab": {
          "base_uri": "https://localhost:8080/",
          "height": 707
        },
        "outputId": "97849699-dc38-430d-f672-160552102114"
      },
      "source": [
        "fig, ax = plt.subplots(num=None, figsize=(20, 10), dpi=80)\n",
        "\n",
        "labels = [str(item[0][1]) + ' ' + str(item[0][0]) for item in out]\n",
        "\n",
        "\n",
        "\n",
        "one_percent = np.round_(([float(x) for x in one] / percent) * 100, 5)\n",
        "two_percent = np.round_(([float(x) for x in two] / percent) * 100, 5)\n",
        "three_percent = np.round_(([float(x) for x in three] / percent) * 100, 5)\n",
        "four_percent = np.round_(([float(x) for x in four] / percent) * 100, 5)\n",
        "five_percent = np.round_(([float(x) for x in five] / percent) * 100, 5)\n",
        "\n",
        "width = .8\n",
        "\n",
        "ax.bar(labels, one_percent, width,  label='18-24')\n",
        "ax.bar(labels, two_percent, width,  bottom=one_percent,label='25 - 39')\n",
        "ax.bar(labels, three_percent, width,  bottom=two_percent + one_percent,label='40-59')\n",
        "ax.bar(labels, four_percent, width,  bottom=two_percent + one_percent + three_percent,label='60+')\n",
        "ax.bar(labels, five_percent, width,  bottom=two_percent + one_percent + three_percent + four_percent,label='under 18')\n",
        "\n",
        "\n",
        "ax.set_ylabel('Percentage')\n",
        "ax.set_title('Ridership Share by Age Group')\n",
        "ax.legend()\n",
        "plt.xticks(rotation='vertical')\n",
        "\n",
        "plt.show()"
      ],
      "execution_count": null,
      "outputs": [
        {
          "output_type": "display_data",
          "data": {
            "image/png": "[encoded data removed]",
            "text/plain": [
              "<Figure size 1600x800 with 1 Axes>"
            ]
          },
          "metadata": {
            "tags": [],
            "needs_background": "light"
          }
        }
      ]
    },
    {
      "cell_type": "code",
      "metadata": {
        "id": "gZONxMErF8uw",
        "colab_type": "code",
        "colab": {}
      },
      "source": [
        "def RemoveHeader(rdd):\n",
        "  header = rdd.first()\n",
        "  data = rdd.filter(lambda x: x != header) \n",
        "  return (data)"
      ],
      "execution_count": null,
      "outputs": []
    },
    {
      "cell_type": "markdown",
      "metadata": {
        "id": "BJbZNeNPGoMG",
        "colab_type": "text"
      },
      "source": [
        "**Cleaning RDDS**"
      ]
    },
    {
      "cell_type": "code",
      "metadata": {
        "id": "lzIsyMpvE15m",
        "colab_type": "code",
        "colab": {
          "base_uri": "https://localhost:8080/",
          "height": 1000
        },
        "outputId": "fcf35411-e638-4b04-b1ad-b446b6af3414"
      },
      "source": [
        "# Clean rdds\n",
        "\n",
        "rdd2011 = rdd = sc.textFile('/content/drive/My Drive/Big Data/data/Bikes Data/Years/hubway_Trips_2011.csv')\n",
        "rdd2012 = rdd = sc.textFile('/content/drive/My Drive/Big Data/data/Bikes Data/Years/hubway_Trips_2012.csv')\n",
        "rdd2013 = rdd = sc.textFile('/content/drive/My Drive/Big Data/data/Bikes Data/Years/hubway_Trips_2013.csv')\n",
        "rdd2014 = rdd = sc.textFile('/content/drive/My Drive/Big Data/data/Bikes Data/Years/2014.csv')\n",
        "rdd2015 = rdd = sc.textFile('/content/drive/My Drive/Big Data/data/Bikes Data/Years/2015.csv')\n",
        "rdd2016 = rdd = sc.textFile('/content/drive/My Drive/Big Data/data/Bikes Data/Years/2016.csv')\n",
        "rdd2017 = rdd = sc.textFile('/content/drive/My Drive/Big Data/data/Bikes Data/Years/2017.csv')\n",
        "rdd2018 = rdd = sc.textFile('/content/drive/My Drive/Big Data/data/Bikes Data/Years/2018.csv')\n",
        "rdd2019 = rdd = sc.textFile('/content/drive/My Drive/Big Data/data/Bikes Data/Years/2019.csv')\n",
        "rdd2020 = rdd = sc.textFile('/content/drive/My Drive/Big Data/data/Bikes Data/Years/2020.csv')\n",
        "\n",
        "cleaned_rdd = sc.union([RemoveHeader(rdd2011),RemoveHeader(rdd2012),RemoveHeader(rdd2013),RemoveHeader(rdd2014),RemoveHeader(rdd2015),\n",
        "                       RemoveHeader(rdd2016),RemoveHeader(rdd2017),RemoveHeader(rdd2018),RemoveHeader(rdd2019),RemoveHeader(rdd2020)])\n",
        "cleaned_rdd.saveAsTextFile('/content/drive/My Drive/Big Data/data/Bikes Data/cleaned_data.csv')\n"
      ],
      "execution_count": null,
      "outputs": [
        {
          "output_type": "error",
          "ename": "Py4JJavaError",
          "evalue": "ignored",
          "traceback": [
            "\u001b[0;31m---------------------------------------------------------------------------\u001b[0m",
            "\u001b[0;31mPy4JJavaError\u001b[0m                             Traceback (most recent call last)",
            "\u001b[0;32m<ipython-input-25-517564d3f41e>\u001b[0m in \u001b[0;36m<module>\u001b[0;34m()\u001b[0m\n\u001b[1;32m     14\u001b[0m cleaned_rdd = sc.union([RemoveHeader(rdd2011),RemoveHeader(rdd2012),RemoveHeader(rdd2013),RemoveHeader(rdd2014),RemoveHeader(rdd2015),\n\u001b[1;32m     15\u001b[0m                        RemoveHeader(rdd2016),RemoveHeader(rdd2017),RemoveHeader(rdd2018),RemoveHeader(rdd2019),RemoveHeader(rdd2020)])\n\u001b[0;32m---> 16\u001b[0;31m \u001b[0mcleaned_rdd\u001b[0m\u001b[0;34m.\u001b[0m\u001b[0msaveAsTextFile\u001b[0m\u001b[0;34m(\u001b[0m\u001b[0;34m'/content/drive/My Drive/Big Data/data/Bikes Data/cleaned_data.csv'\u001b[0m\u001b[0;34m)\u001b[0m\u001b[0;34m\u001b[0m\u001b[0;34m\u001b[0m\u001b[0m\n\u001b[0m",
            "\u001b[0;32m/content/spark-3.0.0-bin-hadoop3.2/python/pyspark/rdd.py\u001b[0m in \u001b[0;36msaveAsTextFile\u001b[0;34m(self, path, compressionCodecClass)\u001b[0m\n\u001b[1;32m   1654\u001b[0m             \u001b[0mkeyed\u001b[0m\u001b[0;34m.\u001b[0m\u001b[0m_jrdd\u001b[0m\u001b[0;34m.\u001b[0m\u001b[0mmap\u001b[0m\u001b[0;34m(\u001b[0m\u001b[0mself\u001b[0m\u001b[0;34m.\u001b[0m\u001b[0mctx\u001b[0m\u001b[0;34m.\u001b[0m\u001b[0m_jvm\u001b[0m\u001b[0;34m.\u001b[0m\u001b[0mBytesToString\u001b[0m\u001b[0;34m(\u001b[0m\u001b[0;34m)\u001b[0m\u001b[0;34m)\u001b[0m\u001b[0;34m.\u001b[0m\u001b[0msaveAsTextFile\u001b[0m\u001b[0;34m(\u001b[0m\u001b[0mpath\u001b[0m\u001b[0;34m,\u001b[0m \u001b[0mcompressionCodec\u001b[0m\u001b[0;34m)\u001b[0m\u001b[0;34m\u001b[0m\u001b[0;34m\u001b[0m\u001b[0m\n\u001b[1;32m   1655\u001b[0m         \u001b[0;32melse\u001b[0m\u001b[0;34m:\u001b[0m\u001b[0;34m\u001b[0m\u001b[0;34m\u001b[0m\u001b[0m\n\u001b[0;32m-> 1656\u001b[0;31m             \u001b[0mkeyed\u001b[0m\u001b[0;34m.\u001b[0m\u001b[0m_jrdd\u001b[0m\u001b[0;34m.\u001b[0m\u001b[0mmap\u001b[0m\u001b[0;34m(\u001b[0m\u001b[0mself\u001b[0m\u001b[0;34m.\u001b[0m\u001b[0mctx\u001b[0m\u001b[0;34m.\u001b[0m\u001b[0m_jvm\u001b[0m\u001b[0;34m.\u001b[0m\u001b[0mBytesToString\u001b[0m\u001b[0;34m(\u001b[0m\u001b[0;34m)\u001b[0m\u001b[0;34m)\u001b[0m\u001b[0;34m.\u001b[0m\u001b[0msaveAsTextFile\u001b[0m\u001b[0;34m(\u001b[0m\u001b[0mpath\u001b[0m\u001b[0;34m)\u001b[0m\u001b[0;34m\u001b[0m\u001b[0;34m\u001b[0m\u001b[0m\n\u001b[0m\u001b[1;32m   1657\u001b[0m \u001b[0;34m\u001b[0m\u001b[0m\n\u001b[1;32m   1658\u001b[0m     \u001b[0;31m# Pair functions\u001b[0m\u001b[0;34m\u001b[0m\u001b[0;34m\u001b[0m\u001b[0;34m\u001b[0m\u001b[0m\n",
            "\u001b[0;32m/content/spark-3.0.0-bin-hadoop3.2/python/lib/py4j-0.10.9-src.zip/py4j/java_gateway.py\u001b[0m in \u001b[0;36m__call__\u001b[0;34m(self, *args)\u001b[0m\n\u001b[1;32m   1303\u001b[0m         \u001b[0manswer\u001b[0m \u001b[0;34m=\u001b[0m \u001b[0mself\u001b[0m\u001b[0;34m.\u001b[0m\u001b[0mgateway_client\u001b[0m\u001b[0;34m.\u001b[0m\u001b[0msend_command\u001b[0m\u001b[0;34m(\u001b[0m\u001b[0mcommand\u001b[0m\u001b[0;34m)\u001b[0m\u001b[0;34m\u001b[0m\u001b[0;34m\u001b[0m\u001b[0m\n\u001b[1;32m   1304\u001b[0m         return_value = get_return_value(\n\u001b[0;32m-> 1305\u001b[0;31m             answer, self.gateway_client, self.target_id, self.name)\n\u001b[0m\u001b[1;32m   1306\u001b[0m \u001b[0;34m\u001b[0m\u001b[0m\n\u001b[1;32m   1307\u001b[0m         \u001b[0;32mfor\u001b[0m \u001b[0mtemp_arg\u001b[0m \u001b[0;32min\u001b[0m \u001b[0mtemp_args\u001b[0m\u001b[0;34m:\u001b[0m\u001b[0;34m\u001b[0m\u001b[0;34m\u001b[0m\u001b[0m\n",
            "\u001b[0;32m/content/spark-3.0.0-bin-hadoop3.2/python/lib/py4j-0.10.9-src.zip/py4j/protocol.py\u001b[0m in \u001b[0;36mget_return_value\u001b[0;34m(answer, gateway_client, target_id, name)\u001b[0m\n\u001b[1;32m    326\u001b[0m                 raise Py4JJavaError(\n\u001b[1;32m    327\u001b[0m                     \u001b[0;34m\"An error occurred while calling {0}{1}{2}.\\n\"\u001b[0m\u001b[0;34m.\u001b[0m\u001b[0;34m\u001b[0m\u001b[0;34m\u001b[0m\u001b[0m\n\u001b[0;32m--> 328\u001b[0;31m                     format(target_id, \".\", name), value)\n\u001b[0m\u001b[1;32m    329\u001b[0m             \u001b[0;32melse\u001b[0m\u001b[0;34m:\u001b[0m\u001b[0;34m\u001b[0m\u001b[0;34m\u001b[0m\u001b[0m\n\u001b[1;32m    330\u001b[0m                 raise Py4JError(\n",
            "\u001b[0;31mPy4JJavaError\u001b[0m: An error occurred while calling o398.saveAsTextFile.\n: org.apache.hadoop.mapred.FileAlreadyExistsException: Output directory file:/content/drive/My Drive/Big Data/data/Bikes Data/cleaned_data.csv already exists\n\tat org.apache.hadoop.mapred.FileOutputFormat.checkOutputSpecs(FileOutputFormat.java:131)\n\tat org.apache.spark.internal.io.HadoopMapRedWriteConfigUtil.assertConf(SparkHadoopWriter.scala:289)\n\tat org.apache.spark.internal.io.SparkHadoopWriter$.write(SparkHadoopWriter.scala:71)\n\tat org.apache.spark.rdd.PairRDDFunctions.$anonfun$saveAsHadoopDataset$1(PairRDDFunctions.scala:1090)\n\tat scala.runtime.java8.JFunction0$mcV$sp.apply(JFunction0$mcV$sp.java:23)\n\tat org.apache.spark.rdd.RDDOperationScope$.withScope(RDDOperationScope.scala:151)\n\tat org.apache.spark.rdd.RDDOperationScope$.withScope(RDDOperationScope.scala:112)\n\tat org.apache.spark.rdd.RDD.withScope(RDD.scala:388)\n\tat org.apache.spark.rdd.PairRDDFunctions.saveAsHadoopDataset(PairRDDFunctions.scala:1088)\n\tat org.apache.spark.rdd.PairRDDFunctions.$anonfun$saveAsHadoopFile$4(PairRDDFunctions.scala:1061)\n\tat scala.runtime.java8.JFunction0$mcV$sp.apply(JFunction0$mcV$sp.java:23)\n\tat org.apache.spark.rdd.RDDOperationScope$.withScope(RDDOperationScope.scala:151)\n\tat org.apache.spark.rdd.RDDOperationScope$.withScope(RDDOperationScope.scala:112)\n\tat org.apache.spark.rdd.RDD.withScope(RDD.scala:388)\n\tat org.apache.spark.rdd.PairRDDFunctions.saveAsHadoopFile(PairRDDFunctions.scala:1026)\n\tat org.apache.spark.rdd.PairRDDFunctions.$anonfun$saveAsHadoopFile$3(PairRDDFunctions.scala:1008)\n\tat scala.runtime.java8.JFunction0$mcV$sp.apply(JFunction0$mcV$sp.java:23)\n\tat org.apache.spark.rdd.RDDOperationScope$.withScope(RDDOperationScope.scala:151)\n\tat org.apache.spark.rdd.RDDOperationScope$.withScope(RDDOperationScope.scala:112)\n\tat org.apache.spark.rdd.RDD.withScope(RDD.scala:388)\n\tat org.apache.spark.rdd.PairRDDFunctions.saveAsHadoopFile(PairRDDFunctions.scala:1007)\n\tat org.apache.spark.rdd.PairRDDFunctions.$anonfun$saveAsHadoopFile$2(PairRDDFunctions.scala:964)\n\tat scala.runtime.java8.JFunction0$mcV$sp.apply(JFunction0$mcV$sp.java:23)\n\tat org.apache.spark.rdd.RDDOperationScope$.withScope(RDDOperationScope.scala:151)\n\tat org.apache.spark.rdd.RDDOperationScope$.withScope(RDDOperationScope.scala:112)\n\tat org.apache.spark.rdd.RDD.withScope(RDD.scala:388)\n\tat org.apache.spark.rdd.PairRDDFunctions.saveAsHadoopFile(PairRDDFunctions.scala:962)\n\tat org.apache.spark.rdd.RDD.$anonfun$saveAsTextFile$2(RDD.scala:1552)\n\tat scala.runtime.java8.JFunction0$mcV$sp.apply(JFunction0$mcV$sp.java:23)\n\tat org.apache.spark.rdd.RDDOperationScope$.withScope(RDDOperationScope.scala:151)\n\tat org.apache.spark.rdd.RDDOperationScope$.withScope(RDDOperationScope.scala:112)\n\tat org.apache.spark.rdd.RDD.withScope(RDD.scala:388)\n\tat org.apache.spark.rdd.RDD.saveAsTextFile(RDD.scala:1552)\n\tat org.apache.spark.rdd.RDD.$anonfun$saveAsTextFile$1(RDD.scala:1538)\n\tat scala.runtime.java8.JFunction0$mcV$sp.apply(JFunction0$mcV$sp.java:23)\n\tat org.apache.spark.rdd.RDDOperationScope$.withScope(RDDOperationScope.scala:151)\n\tat org.apache.spark.rdd.RDDOperationScope$.withScope(RDDOperationScope.scala:112)\n\tat org.apache.spark.rdd.RDD.withScope(RDD.scala:388)\n\tat org.apache.spark.rdd.RDD.saveAsTextFile(RDD.scala:1538)\n\tat org.apache.spark.api.java.JavaRDDLike.saveAsTextFile(JavaRDDLike.scala:550)\n\tat org.apache.spark.api.java.JavaRDDLike.saveAsTextFile$(JavaRDDLike.scala:549)\n\tat org.apache.spark.api.java.AbstractJavaRDDLike.saveAsTextFile(JavaRDDLike.scala:45)\n\tat sun.reflect.NativeMethodAccessorImpl.invoke0(Native Method)\n\tat sun.reflect.NativeMethodAccessorImpl.invoke(NativeMethodAccessorImpl.java:62)\n\tat sun.reflect.DelegatingMethodAccessorImpl.invoke(DelegatingMethodAccessorImpl.java:43)\n\tat java.lang.reflect.Method.invoke(Method.java:498)\n\tat py4j.reflection.MethodInvoker.invoke(MethodInvoker.java:244)\n\tat py4j.reflection.ReflectionEngine.invoke(ReflectionEngine.java:357)\n\tat py4j.Gateway.invoke(Gateway.java:282)\n\tat py4j.commands.AbstractCommand.invokeMethod(AbstractCommand.java:132)\n\tat py4j.commands.CallCommand.execute(CallCommand.java:79)\n\tat py4j.GatewayConnection.run(GatewayConnection.java:238)\n\tat java.lang.Thread.run(Thread.java:748)\n"
          ]
        }
      ]
    },
    {
      "cell_type": "code",
      "metadata": {
        "id": "zQgfj0mBJSN9",
        "colab_type": "code",
        "colab": {}
      },
      "source": [
        "import pandas as pd\n",
        "import time\n",
        "start = time.time()\n",
        "#out = pd.DataFrame(cleaned_rdd.collect())\n",
        "#out = cleaned_rdd.collect()\n",
        "#print(str(time.time() - start))\n",
        "#out.to_csv('/content/drive/My Drive/Big Data/data/Bikes Data/cleaned_data.csv')"
      ],
      "execution_count": null,
      "outputs": []
    },
    {
      "cell_type": "markdown",
      "metadata": {
        "id": "fHhJvB83HaSI",
        "colab_type": "text"
      },
      "source": [
        "**Month vs Month Difference Throughout Years**"
      ]
    },
    {
      "cell_type": "code",
      "metadata": {
        "id": "Fys7DILMHnC6",
        "colab_type": "code",
        "colab": {}
      },
      "source": [
        "# Clean year rdds\n",
        "rdd11 =  RemoveHeader(sc.textFile('/content/drive/My Drive/Big Data/data/Bikes Data/Years/hubway_Trips_2011.csv')).map(lambda x:x.split(','))\n",
        "rdd12 =  RemoveHeader(sc.textFile('/content/drive/My Drive/Big Data/data/Bikes Data/Years/hubway_Trips_2012.csv')).map(lambda x:x.split(','))\n",
        "rdd13 =  RemoveHeader(sc.textFile('/content/drive/My Drive/Big Data/data/Bikes Data/Years/hubway_Trips_2013.csv')).map(lambda x:x.split(','))\n",
        "rdd14 =  RemoveHeader(sc.textFile('/content/drive/My Drive/Big Data/data/Bikes Data/Years/2014.csv')).map(lambda x:x.split(','))\n",
        "rdd15 =  RemoveHeader(sc.textFile('/content/drive/My Drive/Big Data/data/Bikes Data/Years/2015.csv')).map(lambda x:x.split(','))\n",
        "rdd16 =  RemoveHeader(sc.textFile('/content/drive/My Drive/Big Data/data/Bikes Data/Years/2016.csv')).map(lambda x:x.split(','))\n",
        "rdd17 =  RemoveHeader(sc.textFile('/content/drive/My Drive/Big Data/data/Bikes Data/Years/2017.csv')).map(lambda x:x.split(','))\n",
        "rdd18 =  RemoveHeader(sc.textFile('/content/drive/My Drive/Big Data/data/Bikes Data/Years/2018.csv')).map(lambda x:x.split(','))\n",
        "rdd19 =  RemoveHeader(sc.textFile('/content/drive/My Drive/Big Data/data/Bikes Data/Years/2019.csv')).map(lambda x:x.split(','))\n",
        "rdd20 =  RemoveHeader(sc.textFile('/content/drive/My Drive/Big Data/data/Bikes Data/Years/2020.csv')).map(lambda x:x.split(','))"
      ],
      "execution_count": null,
      "outputs": []
    },
    {
      "cell_type": "code",
      "metadata": {
        "id": "Oi4OVQ1GeT0s",
        "colab_type": "code",
        "colab": {}
      },
      "source": [
        "# Month Collection formatting\n",
        "trips11 = rdd11.map(lambda x: x[1][0:2])\n",
        "trips12 = rdd12.map(lambda x: x[1][0:2])\n",
        "trips13 = rdd13.map(lambda x: x[1][0:2])\n",
        "trips14 = rdd14.map(lambda x: x[1][0:2])\n",
        "trips15 = rdd15.map(lambda x: x[1][5:7])\n",
        "trips16 = rdd16.map(lambda x: x[1][5:7])\n",
        "trips17 = rdd17.map(lambda x: x[1][5:7])\n",
        "trips18 = rdd18.map(lambda x: x[1][5:7])\n",
        "trips19 = rdd19.map(lambda x: x[1][5:7])\n",
        "trips20 = rdd20.map(lambda x: x[1][5:7])"
      ],
      "execution_count": null,
      "outputs": []
    },
    {
      "cell_type": "code",
      "metadata": {
        "id": "zQe5W0F7rYP6",
        "colab_type": "code",
        "colab": {}
      },
      "source": [
        "# Month collections\n",
        "t11 = trips11.collect()\n",
        "t12 = trips12.collect()\n",
        "t13 = trips13.collect()\n",
        "t14 = trips14.collect()\n",
        "t15 = trips15.collect()\n",
        "t16 = trips16.collect()\n",
        "t17 = trips17.collect()\n",
        "t18 = trips18.collect()\n",
        "t19 = trips19.collect()\n",
        "t20 = trips20.collect()"
      ],
      "execution_count": null,
      "outputs": []
    },
    {
      "cell_type": "code",
      "metadata": {
        "id": "xLJLpQ-AvEqk",
        "colab_type": "code",
        "colab": {}
      },
      "source": [
        "# Gets trip numbers per month for all months in a year\n",
        "def tripsPerMonth(collection, year):\n",
        "  trips = pd.DataFrame(collection, columns=[\"x\"]).groupby('x').size().to_dict()\n",
        "\n",
        "  # Add missing months to 2011-2013\n",
        "  if year == 2011:\n",
        "    missing = {\n",
        "      'January': 0,\n",
        "      'February': 0,\n",
        "      'March': 0,\n",
        "      'April': 0,\n",
        "      'May': 0,\n",
        "      'June': 0,\n",
        "      'December': 0\n",
        "    }\n",
        "    trips.update(missing)\n",
        "  elif(year == 2012):\n",
        "    missing = {\n",
        "      'January': 0,\n",
        "      'February': 0,\n",
        "      'December': 0\n",
        "    }\n",
        "    trips.update(missing)\n",
        "  elif(year == 2013):\n",
        "    missing = {\n",
        "      'January': 0,\n",
        "      'February': 0,\n",
        "      'March': 0\n",
        "    }\n",
        "    trips.update(missing)\n",
        "  return trips"
      ],
      "execution_count": 83,
      "outputs": []
    },
    {
      "cell_type": "code",
      "metadata": {
        "id": "huWqA139-Lc-",
        "colab_type": "code",
        "colab": {}
      },
      "source": [
        "from collections import OrderedDict\n",
        "\n",
        "# Format months as example ahead: '1/' or '01' to January and order them\n",
        "def formatMonth(d):\n",
        "  changes = {\n",
        "      '1/':'January',\n",
        "      '01':'January',\n",
        "      'January': 'January',\n",
        "      '2/':'February',\n",
        "      '02':'February',\n",
        "      'February':'February',\n",
        "      '3/':'March',\n",
        "      '03':'March',\n",
        "      'March':'March',\n",
        "      '4/':'April',\n",
        "      '04':'April',\n",
        "      'April':'April',\n",
        "      '5/':'May',\n",
        "      '05':'May',\n",
        "      'May':'May',\n",
        "      '6/':'June',\n",
        "      '06':'June',\n",
        "      'June':'June',\n",
        "      '7/':'July',\n",
        "      '07':'July',\n",
        "      'July':'July',\n",
        "      '8/':'August',\n",
        "      '08':'August',\n",
        "      'August':'August',\n",
        "      '9/':'September',\n",
        "      '09':'September',\n",
        "      'September':'September',\n",
        "      '10':'October',\n",
        "      'October':'October',\n",
        "      '11':'November',\n",
        "      'November':'November',\n",
        "      '12':'December',\n",
        "      'December':'December'\n",
        "  }\n",
        "  # Re-format months so they are strings\n",
        "  d2 = dict((changes[key], value) for (key, value) in d.items())\n",
        "\n",
        "  # Re-order months since some were unordered\n",
        "  keyorder = ['January', 'February', 'March', 'April', 'May', 'June', 'July', 'August', 'September', 'October', 'November', 'December']\n",
        "  d3 = OrderedDict(sorted(d2.items(), key= lambda i: keyorder.index(i[0])))\n",
        "\n",
        "  return d3"
      ],
      "execution_count": 90,
      "outputs": []
    },
    {
      "cell_type": "code",
      "metadata": {
        "id": "PhzqKjRv7Uhx",
        "colab_type": "code",
        "colab": {}
      },
      "source": [
        "# Add appropriate year to each month\n",
        "def formatYear(d, year):\n",
        "  changes = {\n",
        "      'January':'January {}'.format(year),\n",
        "      'February':'February {}'.format(year),\n",
        "      'March':'March {}'.format(year),\n",
        "      'April':'April {}'.format(year),\n",
        "      'May':'May {}'.format(year),\n",
        "      'June':'June {}'.format(year),\n",
        "      'July':'July {}'.format(year),\n",
        "      'August':'August {}'.format(year),\n",
        "      'September':'September {}'.format(year),\n",
        "      'October':'October {}'.format(year),\n",
        "      'November':'November {}'.format(year),\n",
        "      'December':'December {}'.format(year)\n",
        "  }\n",
        "  d2 = dict((changes[key], value) for (key, value) in d.items())\n",
        "\n",
        "  return d2"
      ],
      "execution_count": 78,
      "outputs": []
    },
    {
      "cell_type": "code",
      "metadata": {
        "id": "bkS-98h2x_dO",
        "colab_type": "code",
        "colab": {
          "base_uri": "https://localhost:8080/",
          "height": 207
        },
        "outputId": "1a956c58-d0c8-43bf-fab7-6ce3c7cfbef8"
      },
      "source": [
        "trips2011 = formatYear(formatMonth(tripsPerMonth(t11, 2011)), 2011)\n",
        "trips2012 = formatYear(formatMonth(tripsPerMonth(t12, 2012)), 2012)\n",
        "trips2013 = formatYear(formatMonth(tripsPerMonth(t13, 2013)), 2013)\n",
        "trips2014 = formatYear(formatMonth(tripsPerMonth(t14, 2014)), 2014)\n",
        "trips2015 = formatYear(formatMonth(tripsPerMonth(t15, 2015)), 2015)\n",
        "trips2016 = formatYear(formatMonth(tripsPerMonth(t16, 2016)), 2016)\n",
        "trips2017 = formatYear(formatMonth(tripsPerMonth(t17, 2017)), 2017)\n",
        "trips2018 = formatYear(formatMonth(tripsPerMonth(t18, 2018)), 2018)\n",
        "trips2019 = formatYear(formatMonth(tripsPerMonth(t19, 2019)), 2019)\n",
        "trips2020 = formatYear(formatMonth(tripsPerMonth(t20, 2020)), 2020)\n",
        "print(trips2011)\n",
        "print(trips2012)\n",
        "print(trips2013)\n",
        "print(trips2014)\n",
        "print(trips2015)\n",
        "print(trips2016)\n",
        "print(trips2017)\n",
        "print(trips2018)\n",
        "print(trips2019)\n",
        "print(trips2020)"
      ],
      "execution_count": 93,
      "outputs": [
        {
          "output_type": "stream",
          "text": [
            "{'January 2011': 0, 'February 2011': 0, 'March 2011': 0, 'April 2011': 0, 'May 2011': 0, 'June 2011': 0, 'July 2011': 2729, 'August 2011': 36233, 'September 2011': 40810, 'October 2011': 36326, 'November 2011': 24876, 'December 2011': 0}\n",
            "{'January 2012': 0, 'February 2012': 0, 'March 2012': 14284, 'April 2012': 44142, 'May 2012': 53480, 'June 2012': 55636, 'July 2012': 70080, 'August 2012': 84842, 'September 2012': 83643, 'October 2012': 76868, 'November 2012': 47399, 'December 2012': 0}\n",
            "{'January 2013': 0, 'February 2013': 0, 'March 2013': 0, 'April 2013': 63432, 'May 2013': 97682, 'June 2013': 108666, 'July 2013': 131259, 'August 2013': 147776, 'September 2013': 139228, 'October 2013': 138304, 'November 2013': 72378, 'December 2013': 8151}\n",
            "{'January 2014': 6577, 'February 2014': 6967, 'March 2014': 11261, 'April 2014': 90942, 'May 2014': 141829, 'June 2014': 159897, 'July 2014': 173486, 'August 2014': 174668, 'September 2014': 169637, 'October 2014': 137732, 'November 2014': 77148, 'December 2014': 34570}\n",
            "{'January 2015': 7840, 'February 2015': 4020, 'March 2015': 11271, 'April 2015': 55843, 'May 2015': 149143, 'June 2015': 144232, 'July 2015': 175321, 'August 2015': 160065, 'September 2015': 150516, 'October 2015': 126656, 'November 2015': 88735, 'December 2015': 48916}\n",
            "{'January 2016': 12055, 'February 2016': 14643, 'March 2016': 41277, 'April 2016': 84262, 'May 2016': 129260, 'June 2016': 164667, 'July 2016': 167385, 'August 2016': 174198, 'September 2016': 165690, 'October 2016': 137865, 'November 2016': 99910, 'December 2016': 44991}\n",
            "{'January 2017': 19518, 'February 2017': 17272, 'March 2017': 31253, 'April 2017': 99860, 'May 2017': 127894, 'June 2017': 161910, 'July 2017': 175833, 'August 2017': 190651, 'September 2017': 165386, 'October 2017': 163662, 'November 2017': 105463, 'December 2017': 55072}\n",
            "{'January 2018': 40932, 'February 2018': 62817, 'March 2018': 62985, 'April 2018': 98194, 'May 2018': 178865, 'June 2018': 205359, 'July 2018': 242916, 'August 2018': 236076, 'September 2018': 236182, 'October 2018': 200100, 'November 2018': 121419, 'December 2018': 81961}\n",
            "{'January 2019': 139744, 'February 2019': 160932, 'March 2019': 204738, 'April 2019': 333388, 'May 2019': 446168, 'June 2019': 548044, 'July 2019': 316931, 'August 2019': 674886, 'September 2019': 726370, 'October 2019': 611008, 'November 2019': 381518, 'December 2019': 184416}\n",
            "{'January 2020': 128598, 'February 2020': 133235, 'March 2020': 107350, 'April 2020': 46793, 'May 2020': 124879, 'June 2020': 191843}\n"
          ],
          "name": "stdout"
        }
      ]
    },
    {
      "cell_type": "code",
      "metadata": {
        "id": "eoCeHXCqSNN6",
        "colab_type": "code",
        "colab": {
          "base_uri": "https://localhost:8080/",
          "height": 738
        },
        "outputId": "4b7fb1f0-76ad-49a8-f5cf-b056315db3a0"
      },
      "source": [
        "# Plotting monthly trip numbers across years\n",
        "\n",
        "# Merge all years\n",
        "trips = {**trips2011, **trips2012, **trips2013, **trips2014, **trips2015, **trips2016, **trips2017, **trips2018, **trips2019, **trips2020}\n",
        "#print(trips)\n",
        "\n",
        "fig, ax = plt.subplots(num=None, figsize=(20, 10), dpi=80)\n",
        "# Birthstone colors to identify months\n",
        "colors = ['#733635', '#9966cc', '#6bcae2', '#c0c0c0', '#50c878', '#eae0c8', '#e0115f', '#e6e200', '#0f52ba', '#f8b4f4', '#ffc87c', '#78bdd4']\n",
        "plt.bar(range(len(trips)), list(trips.values()), align='center', orientation='vertical', color= colors)\n",
        "plt.xticks(range(len(trips)), list(trips.keys()), rotation='vertical')\n",
        "\n",
        "plt.show()"
      ],
      "execution_count": 97,
      "outputs": [
        {
          "output_type": "display_data",
          "data": {
            "image/png": "[encoded data removed]",
            "text/plain": [
              "<Figure size 1600x800 with 1 Axes>"
            ]
          },
          "metadata": {
            "tags": [],
            "needs_background": "light"
          }
        }
      ]
    },
    {
      "cell_type": "markdown",
      "metadata": {
        "id": "Onww6XtC24l8",
        "colab_type": "text"
      },
      "source": [
        "COVID-19 Effects"
      ]
    },
    {
      "cell_type": "code",
      "metadata": {
        "id": "CgvxngurMh8f",
        "colab_type": "code",
        "colab": {}
      },
      "source": [
        "# Calculate percentage change\n",
        "def dif(a, b):\n",
        "  neg = ((b-a)/b)*100\n",
        "  pos = 0\n",
        "  if a < b:\n",
        "    return '+{0:.2f}%'.format(pos)\n",
        "  elif a > b:\n",
        "    return '{0:.2f}%'.format(neg)"
      ],
      "execution_count": 141,
      "outputs": []
    },
    {
      "cell_type": "code",
      "metadata": {
        "id": "tVdZr2HO2z_P",
        "colab_type": "code",
        "colab": {
          "base_uri": "https://localhost:8080/",
          "height": 424
        },
        "outputId": "3be7cf1d-6fc1-4e2c-c8e4-1f779780fe5c"
      },
      "source": [
        "# Compare January through June in 2019 and 2020\n",
        "fx = {\n",
        "    'January 2019' : trips['January 2019'],\n",
        "    'January 2020' : trips['January 2020'],\n",
        "    'February 2019' : trips['February 2019'],\n",
        "    'February 2020' : trips['February 2020'],\n",
        "    'March 2019' : trips['March 2019'],\n",
        "    'March 2020' : trips['March 2020'],\n",
        "    'April 2019' : trips['April 2019'],\n",
        "    'April 2020' : trips['April 2020'],\n",
        "    'May 2019' : trips['May 2019'],\n",
        "    'May 2020' : trips['May 2020'],\n",
        "    'June 2019' : trips['June 2019'],\n",
        "    'June 2020' : trips['June 2020']\n",
        "}\n",
        "fig, ax = plt.subplots(num=None, figsize=(10, 5), dpi=80)\n",
        "# Birthstone colors to identify months\n",
        "colors = ['#733635', '#733635', '#9966cc', '#9966cc', '#6bcae2', '#6bcae2', '#c0c0c0', '#c0c0c0', '#50c878', '#50c878', '#eae0c8', '#eae0c8']\n",
        "plt.bar(range(len(fx)), list(fx.values()), align='center', orientation='vertical', color= colors)\n",
        "plt.xticks(range(len(fx)), list(fx.keys()), rotation='vertical')\n",
        "\n",
        "#diff = [dif(trips['January 2020'],trips['January 2019']), dif(trips['January 2020'],trips['January 2019']), dif(trips['January 2020'],trips['January 2019']), dif(trips['January 2020'],trips['January 2019']), dif(trips['January 2020'],trips['January 2019']), dif(trips['January 2020'],trips['January 2019'])]\n",
        "\n",
        "for index,values in enumerate(list(fx.values())):\n",
        "  plt.text(x= index , y= values , s= f\"{values}\" , fontdict= dict(fontsize=10))\n",
        "plt.show()"
      ],
      "execution_count": 153,
      "outputs": [
        {
          "output_type": "display_data",
          "data": {
            "image/png": "[encoded data removed]",
            "text/plain": [
              "<Figure size 800x400 with 1 Axes>"
            ]
          },
          "metadata": {
            "tags": [],
            "needs_background": "light"
          }
        }
      ]
    }
  ]
}